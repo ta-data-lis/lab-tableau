{
 "cells": [
  {
   "cell_type": "markdown",
   "metadata": {},
   "source": [
    "# lab-tableau\n",
    "### Apple store dataset\n",
    "**Questions**\n",
    "\n",
    "- How can you describe your app so that people download it more?\n",
    "- How can you choose a title?"
   ]
  },
  {
   "cell_type": "code",
<<<<<<< HEAD
   "execution_count": 69,
=======
   "execution_count": 1,
>>>>>>> parent of 73f338f... finished lab
   "metadata": {},
   "outputs": [],
   "source": [
    "import pandas as pd\n",
    "import numpy as np\n",
    "import matplotlib.pyplot as plt\n",
    "import seaborn as sns\n",
    "from scipy import stats"
   ]
  },
  {
   "cell_type": "code",
<<<<<<< HEAD
   "execution_count": 70,
=======
   "execution_count": 2,
>>>>>>> parent of 73f338f... finished lab
   "metadata": {},
   "outputs": [
    {
     "data": {
      "text/plain": [
       "(7197, 16)"
      ]
     },
<<<<<<< HEAD
     "execution_count": 70,
=======
     "execution_count": 2,
>>>>>>> parent of 73f338f... finished lab
     "metadata": {},
     "output_type": "execute_result"
    }
   ],
   "source": [
    "# opening datasets (list of apps + desrcription)\n",
    "appstore = pd.read_csv('C:/Users/Zaca/Documents/Datasets/AppleStore.csv', index_col= 0)\n",
    "app_desc = pd.read_csv('C:/Users/Zaca/Documents/Datasets/appleStore_description.csv')\n",
    "appstore.shape"
   ]
  },
  {
   "cell_type": "code",
<<<<<<< HEAD
   "execution_count": 71,
=======
   "execution_count": 3,
>>>>>>> parent of 73f338f... finished lab
   "metadata": {},
   "outputs": [
    {
     "data": {
      "text/plain": [
       "(7197, 17)"
      ]
     },
<<<<<<< HEAD
     "execution_count": 71,
=======
     "execution_count": 3,
>>>>>>> parent of 73f338f... finished lab
     "metadata": {},
     "output_type": "execute_result"
    }
   ],
   "source": [
    "# merging both datasets on id.\n",
    "combined = appstore.merge(app_desc[['id', 'app_desc']], on='id', how= 'inner')\n",
    "combined.shape"
   ]
  },
  {
   "cell_type": "markdown",
   "metadata": {},
   "source": [
    "*We haven't lost data points by doing an inner merge*"
   ]
  },
  {
   "cell_type": "code",
<<<<<<< HEAD
   "execution_count": 72,
=======
   "execution_count": 4,
>>>>>>> parent of 73f338f... finished lab
   "metadata": {},
   "outputs": [],
   "source": [
    "# create new columns based on the length of description and title and bin them.\n",
    "combined['title_len'] = combined.track_name.apply(lambda x: len(x))\n",
    "combined['desc_len'] = combined.app_desc.apply(lambda x: len(x))"
   ]
  },
  {
   "cell_type": "code",
<<<<<<< HEAD
   "execution_count": 73,
=======
   "execution_count": 5,
>>>>>>> parent of 73f338f... finished lab
   "metadata": {},
   "outputs": [],
   "source": [
    "# save new dataset but DONT FORGET TO IGNORE FROM THE PUSH\n",
    "combined.to_csv('C:/Users/Zaca/Documents/Datasets/AppleStore_combined.csv')"
   ]
  }
 ],
 "metadata": {
  "kernelspec": {
   "display_name": "Python 3",
   "language": "python",
   "name": "python3"
  },
  "language_info": {
   "codemirror_mode": {
    "name": "ipython",
    "version": 3
   },
   "file_extension": ".py",
   "mimetype": "text/x-python",
   "name": "python",
   "nbconvert_exporter": "python",
   "pygments_lexer": "ipython3",
   "version": "3.7.4"
  }
 },
 "nbformat": 4,
 "nbformat_minor": 2
}
