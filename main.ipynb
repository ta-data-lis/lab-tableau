{
 "cells": [
  {
   "cell_type": "markdown",
   "metadata": {},
   "source": [
    "# lab-tableau"
   ]
  },
  {
   "cell_type": "code",
   "execution_count": 152,
   "metadata": {},
   "outputs": [],
   "source": [
    "import pandas as pd\n",
    "import numpy as np\n",
    "import matplotlib.pyplot as plt\n",
    "import seaborn as sns\n",
    "from scipy import stats"
   ]
  },
  {
   "cell_type": "code",
   "execution_count": 153,
   "metadata": {},
   "outputs": [
    {
     "data": {
      "text/plain": [
       "(7197, 16)"
      ]
     },
     "execution_count": 153,
     "metadata": {},
     "output_type": "execute_result"
    }
   ],
   "source": [
    "# opening datasets (list of apps + desrcription)\n",
    "appstore = pd.read_csv('C:/Users/Zaca/Documents/Datasets/AppleStore.csv', index_col= 0)\n",
    "app_desc = pd.read_csv('C:/Users/Zaca/Documents/Datasets/appleStore_description.csv')\n",
    "appstore.shape"
   ]
  },
  {
   "cell_type": "code",
   "execution_count": 154,
   "metadata": {},
   "outputs": [],
   "source": [
    "# merging both datasets on id.\n",
    "combined = appstore.merge(app_desc[['id', 'app_desc']], on='id', how= 'inner')"
   ]
  },
  {
   "cell_type": "markdown",
   "metadata": {},
   "source": [
    "*We haven't lost data points by doing an inner merge*"
   ]
  },
  {
   "cell_type": "code",
   "execution_count": 155,
   "metadata": {},
   "outputs": [],
   "source": [
    "# create new columns based on the length of description and title and bin them.\n",
    "combined['title_len'] = combined.track_name.apply(lambda x: len(x))\n",
    "combined['title_len_binned'] = pd.cut(combined.title_len, bins= 20)\n",
    "combined['desc_len'] = combined.app_desc.apply(lambda x: len(x))\n",
    "combined['desc_len_binned'] = pd.cut(combined.desc_len, bins= 20)"
   ]
  },
  {
   "cell_type": "code",
   "execution_count": 159,
   "metadata": {},
   "outputs": [
    {
     "data": {
      "text/plain": [
       "0       (13.5, 25.0]\n",
       "1       (13.5, 25.0]\n",
       "2       (36.5, 48.0]\n",
       "3       (48.0, 59.5]\n",
       "4       (1.77, 13.5]\n",
       "            ...     \n",
       "7192    (1.77, 13.5]\n",
       "7193    (13.5, 25.0]\n",
       "7194    (36.5, 48.0]\n",
       "7195    (36.5, 48.0]\n",
       "7196    (25.0, 36.5]\n",
       "Name: title_len_binned, Length: 7197, dtype: category\n",
       "Categories (20, interval[float64]): [(1.77, 13.5] < (13.5, 25.0] < (25.0, 36.5] < (36.5, 48.0] ... (186.0, 197.5] < (197.5, 209.0] < (209.0, 220.5] < (220.5, 232.0]]"
      ]
     },
     "execution_count": 159,
     "metadata": {},
     "output_type": "execute_result"
    }
   ],
   "source": [
    "combined['title_len_binned']"
   ]
  },
  {
   "cell_type": "code",
   "execution_count": 157,
   "metadata": {},
   "outputs": [],
   "source": [
    "# save new dataset\n",
    "combined.to_csv('C:/Users/Zaca/Documents/Datasets/AppleStore_combined.csv')"
   ]
  },
  {
   "cell_type": "code",
   "execution_count": 158,
   "metadata": {},
   "outputs": [
    {
     "data": {
      "text/plain": [
       "id                     int64\n",
       "track_name            object\n",
       "size_bytes             int64\n",
       "currency              object\n",
       "price                float64\n",
       "rating_count_tot       int64\n",
       "rating_count_ver       int64\n",
       "user_rating          float64\n",
       "user_rating_ver      float64\n",
       "ver                   object\n",
       "cont_rating           object\n",
       "prime_genre           object\n",
       "sup_devices.num        int64\n",
       "ipadSc_urls.num        int64\n",
       "lang.num               int64\n",
       "vpp_lic                int64\n",
       "app_desc              object\n",
       "title_len              int64\n",
       "title_len_binned    category\n",
       "desc_len               int64\n",
       "desc_len_binned     category\n",
       "dtype: object"
      ]
     },
     "execution_count": 158,
     "metadata": {},
     "output_type": "execute_result"
    }
   ],
   "source": [
    "combined.dtypes"
   ]
  },
  {
   "cell_type": "code",
   "execution_count": null,
   "metadata": {},
   "outputs": [],
   "source": []
  }
 ],
 "metadata": {
  "kernelspec": {
   "display_name": "Python 3",
   "language": "python",
   "name": "python3"
  },
  "language_info": {
   "codemirror_mode": {
    "name": "ipython",
    "version": 3
   },
   "file_extension": ".py",
   "mimetype": "text/x-python",
   "name": "python",
   "nbconvert_exporter": "python",
   "pygments_lexer": "ipython3",
   "version": "3.7.4"
  }
 },
 "nbformat": 4,
 "nbformat_minor": 2
}
